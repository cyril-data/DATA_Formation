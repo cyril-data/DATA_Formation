{
 "cells": [
  {
   "cell_type": "markdown",
   "metadata": {},
   "source": [
    "# preparation"
   ]
  },
  {
   "cell_type": "code",
   "execution_count": 1,
   "metadata": {
    "ExecuteTime": {
     "end_time": "2020-07-06T08:15:28.489191Z",
     "start_time": "2020-07-06T08:15:23.165419Z"
    }
   },
   "outputs": [],
   "source": [
    "import re\n",
    "import numpy as np\n",
    "import pandas as pd\n",
    "import matplotlib.pyplot as plt\n",
    "import matplotlib.ticker as mtick\n",
    "import seaborn as sns\n",
    "import datetime\n",
    "sns.set()\n",
    "\n",
    "data = pd.read_csv(\"flipkart_com-ecommerce_sample_1050.csv\", sep=',')"
   ]
  },
  {
   "cell_type": "markdown",
   "metadata": {},
   "source": [
    "## nettoyage : product, image, description\t"
   ]
  },
  {
   "cell_type": "code",
   "execution_count": 2,
   "metadata": {
    "ExecuteTime": {
     "end_time": "2020-07-06T08:15:28.639792Z",
     "start_time": "2020-07-06T08:15:28.629817Z"
    }
   },
   "outputs": [
    {
     "name": "stdout",
     "output_type": "stream",
     "text": [
      "Index(['product_category_tree', 'image', 'description'], dtype='object')\n"
     ]
    }
   ],
   "source": [
    "data = data.drop( [\"brand\", \"uniq_id\", \"crawl_timestamp\", \"product_url\",\"product_name\",\"pid\",\n",
    "          \"retail_price\",\"discounted_price\",\"is_FK_Advantage_product\",\n",
    "          \"product_rating\",\"overall_rating\",\"product_specifications\"], axis=1)\n",
    "print(data.columns)"
   ]
  },
  {
   "cell_type": "markdown",
   "metadata": {},
   "source": [
    "## Multi-label classification : Classifier Chains ? "
   ]
  },
  {
   "cell_type": "code",
   "execution_count": 3,
   "metadata": {
    "ExecuteTime": {
     "end_time": "2020-07-06T08:15:28.697634Z",
     "start_time": "2020-07-06T08:15:28.665719Z"
    }
   },
   "outputs": [
    {
     "name": "stdout",
     "output_type": "stream",
     "text": [
      "Index(['product_category_tree', 'image', 'description', 'Cat_0', 'Cat_1',\n",
      "       'Cat_2', 'Cat_3', 'Cat_4', 'Cat_5', 'Cat_6'],\n",
      "      dtype='object')\n"
     ]
    }
   ],
   "source": [
    "data[\"product_category_tree\"].replace('\\[|\"|\\]|\\.\\.\\.','',regex=True, inplace = True)\n",
    "dataSplit = data[\"product_category_tree\"].str.split(r\">>\", n=-1,expand=True)\n",
    "result = pd.concat([data,dataSplit], axis=1)\n",
    "data = result.rename(columns={0: 'Cat_0',\n",
    "                            1: 'Cat_1',\n",
    "                            2: 'Cat_2',\n",
    "                            3: 'Cat_3',\n",
    "                            4: 'Cat_4',\n",
    "                            5: 'Cat_5',\n",
    "                            6: 'Cat_6'\n",
    "                           })\n",
    "print(data.columns)"
   ]
  },
  {
   "cell_type": "code",
   "execution_count": 4,
   "metadata": {
    "ExecuteTime": {
     "end_time": "2020-07-06T08:15:54.409580Z",
     "start_time": "2020-07-06T08:15:54.402600Z"
    }
   },
   "outputs": [
    {
     "data": {
      "text/plain": [
       "array(['Home Furnishing ', 'Baby Care ', 'Watches ',\n",
       "       'Home Decor & Festive Needs ', 'Kitchen & Dining ',\n",
       "       'Beauty and Personal Care ', 'Computers '], dtype=object)"
      ]
     },
     "execution_count": 4,
     "metadata": {},
     "output_type": "execute_result"
    }
   ],
   "source": [
    "data[\"Cat_0\"].unique()"
   ]
  },
  {
   "cell_type": "code",
   "execution_count": null,
   "metadata": {},
   "outputs": [],
   "source": []
  },
  {
   "cell_type": "code",
   "execution_count": null,
   "metadata": {},
   "outputs": [],
   "source": []
  },
  {
   "cell_type": "code",
   "execution_count": 4,
   "metadata": {},
   "outputs": [],
   "source": [
    "data.to_csv('data_CLean.csv', sep='\\t', encoding='utf-8')"
   ]
  },
  {
   "cell_type": "code",
   "execution_count": 5,
   "metadata": {},
   "outputs": [],
   "source": [
    "# # Author: Adam Kleczewski\n",
    "# # License: BSD 3 clause\n",
    "\n",
    "# import numpy as np\n",
    "# import matplotlib.pyplot as plt\n",
    "# from sklearn.datasets import fetch_openml\n",
    "# from sklearn.multioutput import ClassifierChain\n",
    "# from sklearn.model_selection import train_test_split\n",
    "# from sklearn.multiclass import OneVsRestClassifier\n",
    "# from sklearn.metrics import jaccard_score\n",
    "# from sklearn.linear_model import LogisticRegression\n",
    "\n",
    "# print(__doc__)\n",
    "\n",
    "# # Load a multi-label dataset from https://www.openml.org/d/40597\n",
    "# X, Y = fetch_openml('yeast', version=4, return_X_y=True)\n",
    "# Y = Y == 'TRUE'\n",
    "# X_train, X_test, Y_train, Y_test = train_test_split(X, Y, test_size=.2,\n",
    "#                                                     random_state=0)\n",
    "\n",
    "# # Fit an independent logistic regression model for each class using the\n",
    "# # OneVsRestClassifier wrapper.\n",
    "# base_lr = LogisticRegression()\n",
    "# ovr = OneVsRestClassifier(base_lr)\n",
    "# ovr.fit(X_train, Y_train)\n",
    "# Y_pred_ovr = ovr.predict(X_test)\n",
    "# ovr_jaccard_score = jaccard_score(Y_test, Y_pred_ovr, average='samples')\n",
    "\n",
    "# # Fit an ensemble of logistic regression classifier chains and take the\n",
    "# # take the average prediction of all the chains.\n",
    "# chains = [ClassifierChain(base_lr, order='random', random_state=i)\n",
    "#           for i in range(10)]\n",
    "# for chain in chains:\n",
    "#     chain.fit(X_train, Y_train)\n",
    "\n",
    "# Y_pred_chains = np.array([chain.predict(X_test) for chain in\n",
    "#                           chains])\n",
    "# chain_jaccard_scores = [jaccard_score(Y_test, Y_pred_chain >= .5,\n",
    "#                                       average='samples')\n",
    "#                         for Y_pred_chain in Y_pred_chains]\n",
    "\n",
    "# Y_pred_ensemble = Y_pred_chains.mean(axis=0)\n",
    "# ensemble_jaccard_score = jaccard_score(Y_test,\n",
    "#                                        Y_pred_ensemble >= .5,\n",
    "#                                        average='samples')\n",
    "\n",
    "# model_scores = [ovr_jaccard_score] + chain_jaccard_scores\n",
    "# model_scores.append(ensemble_jaccard_score)\n",
    "\n",
    "# model_names = ('Independent',\n",
    "#                'Chain 1',\n",
    "#                'Chain 2',\n",
    "#                'Chain 3',\n",
    "#                'Chain 4',\n",
    "#                'Chain 5',\n",
    "#                'Chain 6',\n",
    "#                'Chain 7',\n",
    "#                'Chain 8',\n",
    "#                'Chain 9',\n",
    "#                'Chain 10',\n",
    "#                'Ensemble')\n",
    "\n",
    "# x_pos = np.arange(len(model_names))\n",
    "\n",
    "# # Plot the Jaccard similarity scores for the independent model, each of the\n",
    "# # chains, and the ensemble (note that the vertical axis on this plot does\n",
    "# # not begin at 0).\n",
    "\n",
    "# fig, ax = plt.subplots(figsize=(7, 4))\n",
    "# ax.grid(True)\n",
    "# ax.set_title('Classifier Chain Ensemble Performance Comparison')\n",
    "# ax.set_xticks(x_pos)\n",
    "# ax.set_xticklabels(model_names, rotation='vertical')\n",
    "# ax.set_ylabel('Jaccard Similarity Score')\n",
    "# ax.set_ylim([min(model_scores) * .9, max(model_scores) * 1.1])\n",
    "# colors = ['r'] + ['b'] * len(chain_jaccard_scores) + ['g']\n",
    "# ax.bar(x_pos, model_scores, alpha=0.5, color=colors)\n",
    "# plt.tight_layout()\n",
    "# plt.show()"
   ]
  },
  {
   "cell_type": "code",
   "execution_count": null,
   "metadata": {},
   "outputs": [],
   "source": []
  }
 ],
 "metadata": {
  "celltoolbar": "Aucun(e)",
  "kernelspec": {
   "display_name": "Python 3",
   "language": "python",
   "name": "python3"
  },
  "language_info": {
   "codemirror_mode": {
    "name": "ipython",
    "version": 3
   },
   "file_extension": ".py",
   "mimetype": "text/x-python",
   "name": "python",
   "nbconvert_exporter": "python",
   "pygments_lexer": "ipython3",
   "version": "3.8.3"
  },
  "toc": {
   "base_numbering": 1,
   "nav_menu": {},
   "number_sections": true,
   "sideBar": true,
   "skip_h1_title": false,
   "title_cell": "Table of Contents",
   "title_sidebar": "Contents",
   "toc_cell": false,
   "toc_position": {
    "height": "calc(100% - 180px)",
    "left": "10px",
    "top": "150px",
    "width": "394.297px"
   },
   "toc_section_display": true,
   "toc_window_display": true
  },
  "varInspector": {
   "cols": {
    "lenName": 16,
    "lenType": 16,
    "lenVar": 40
   },
   "kernels_config": {
    "python": {
     "delete_cmd_postfix": "",
     "delete_cmd_prefix": "del ",
     "library": "var_list.py",
     "varRefreshCmd": "print(var_dic_list())"
    },
    "r": {
     "delete_cmd_postfix": ") ",
     "delete_cmd_prefix": "rm(",
     "library": "var_list.r",
     "varRefreshCmd": "cat(var_dic_list()) "
    }
   },
   "types_to_exclude": [
    "module",
    "function",
    "builtin_function_or_method",
    "instance",
    "_Feature"
   ],
   "window_display": false
  }
 },
 "nbformat": 4,
 "nbformat_minor": 4
}
